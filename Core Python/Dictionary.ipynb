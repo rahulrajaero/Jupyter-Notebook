{
 "cells": [
  {
   "cell_type": "markdown",
   "metadata": {},
   "source": [
    "<h1 align='center'> Dictionary</h1><br/>"
   ]
  },
  {
   "cell_type": "markdown",
   "metadata": {},
   "source": [
    "**Dictionary:** ```Unordered```, ```mutable```, ```key-value``` pair"
   ]
  },
  {
   "cell_type": "code",
   "execution_count": 2,
   "metadata": {},
   "outputs": [
    {
     "name": "stdout",
     "output_type": "stream",
     "text": [
      "{'company_name': 'Apple', 'year': 1974, 'founder': 'Steve Jobs'}\n"
     ]
    }
   ],
   "source": [
    "dictionary = {'company_name': 'Apple',\n",
    "             'year': 1974,\n",
    "             'founder': 'Steve Jobs'}\n",
    "print(dictionary)"
   ]
  },
  {
   "cell_type": "markdown",
   "metadata": {},
   "source": [
    "#### Mutate"
   ]
  },
  {
   "cell_type": "code",
   "execution_count": 3,
   "metadata": {},
   "outputs": [
    {
     "name": "stdout",
     "output_type": "stream",
     "text": [
      "{'company_name': 'Apple', 'year': 1975, 'founder': 'Steve Jobs', 'url': 'https://www.apple.com'}\n"
     ]
    }
   ],
   "source": [
    "# change the value\n",
    "dictionary['year'] = 1975\n",
    "# add website\n",
    "dictionary['url'] = 'https://www.apple.com'\n",
    "print(dictionary)"
   ]
  },
  {
   "cell_type": "markdown",
   "metadata": {},
   "source": [
    "#### Delete website"
   ]
  },
  {
   "cell_type": "code",
   "execution_count": 4,
   "metadata": {},
   "outputs": [
    {
     "name": "stdout",
     "output_type": "stream",
     "text": [
      "{'company_name': 'Apple', 'year': 1975, 'founder': 'Steve Jobs'}\n"
     ]
    }
   ],
   "source": [
    "del dictionary['url']\n",
    "print(dictionary)"
   ]
  },
  {
   "cell_type": "markdown",
   "metadata": {},
   "source": [
    "#### loop"
   ]
  },
  {
   "cell_type": "code",
   "execution_count": 5,
   "metadata": {},
   "outputs": [
    {
     "name": "stdout",
     "output_type": "stream",
     "text": [
      "company_name\n",
      "year\n",
      "founder\n"
     ]
    }
   ],
   "source": [
    "# default it access key\n",
    "for key in dictionary:\n",
    "    print(key)"
   ]
  },
  {
   "cell_type": "code",
   "execution_count": 6,
   "metadata": {},
   "outputs": [
    {
     "name": "stdout",
     "output_type": "stream",
     "text": [
      "Apple\n",
      "1975\n",
      "Steve Jobs\n"
     ]
    }
   ],
   "source": [
    "# access the values\n",
    "for value in dictionary.values():\n",
    "    print(value)"
   ]
  },
  {
   "cell_type": "markdown",
   "metadata": {},
   "source": [
    "#### Copy the dictionary"
   ]
  },
  {
   "cell_type": "code",
   "execution_count": 7,
   "metadata": {},
   "outputs": [
    {
     "name": "stdout",
     "output_type": "stream",
     "text": [
      "{'company_name': 'Apple', 'year': 1975, 'founder': 'Steve Jobs'}\n",
      "{'company_name': 'Apple', 'year': 1975, 'founder': 'Steve Jobs', 'url': 'https://www.apple.com'}\n",
      "{'company_name': 'Apple', 'year': 1975, 'founder': 'Steve Jobs', 'url': 'https://www.apple.com'}\n"
     ]
    }
   ],
   "source": [
    "dictionary_copy = dictionary # this way copied dictionary points to same memory, so be careful\n",
    "\n",
    "print(dictionary)\n",
    "# if we modify the copied dictionary then it also modify the original dictionary\n",
    "dictionary_copy['url'] = 'https://www.apple.com'\n",
    "print(dictionary)\n",
    "print(dictionary_copy)"
   ]
  },
  {
   "cell_type": "code",
   "execution_count": 8,
   "metadata": {},
   "outputs": [
    {
     "name": "stdout",
     "output_type": "stream",
     "text": [
      "{'company_name': 'Apple', 'year': 1975, 'founder': 'Steve Jobs'}\n",
      "{'company_name': 'Apple', 'year': 1975, 'founder': 'Steve Jobs'}\n",
      "{'company_name': 'Apple', 'year': 1975, 'founder': 'Steve Jobs', 'url': 'https://www.apple.com'}\n"
     ]
    }
   ],
   "source": [
    "# use .copy() method or can use dict(mydict)\n",
    "dictionary.popitem()\n",
    "print(dictionary)\n",
    "dictionary_copy1 = dictionary.copy()\n",
    "dictionary_copy1['url'] = 'https://www.apple.com'\n",
    "print(dictionary)\n",
    "print(dictionary_copy1)"
   ]
  },
  {
   "cell_type": "markdown",
   "metadata": {},
   "source": [
    "#### Update method in dictionary"
   ]
  },
  {
   "cell_type": "code",
   "execution_count": 9,
   "metadata": {},
   "outputs": [
    {
     "name": "stdout",
     "output_type": "stream",
     "text": [
      "{'company_name': 'mango', 'year': 1975, 'founder': 'Steve Jobs', 'url': 'https://www.mango.com'}\n"
     ]
    }
   ],
   "source": [
    "my_dict = {\"company_name\": \"Apple\",\n",
    "          'year': 1974,\n",
    "          'founder': 'Steve Jobs'}\n",
    "my_dict2 = dict(company_name=\"mango\", year=1975, url='https://www.mango.com')\n",
    "\n",
    "my_dict.update(my_dict2)\n",
    "print(my_dict)"
   ]
  },
  {
   "cell_type": "markdown",
   "metadata": {},
   "source": [
    "#### Use tuple as key"
   ]
  },
  {
   "cell_type": "code",
   "execution_count": 10,
   "metadata": {},
   "outputs": [
    {
     "name": "stdout",
     "output_type": "stream",
     "text": [
      "{('apple', 'mango'): 'applemango'}\n"
     ]
    }
   ],
   "source": [
    "tpl = ('apple','mango')\n",
    "dct = {tpl:tpl[0]+tpl[1]}\n",
    "print(dct)"
   ]
  },
  {
   "cell_type": "markdown",
   "metadata": {},
   "source": [
    "For ```list``` not possible"
   ]
  },
  {
   "cell_type": "code",
   "execution_count": 14,
   "metadata": {},
   "outputs": [
    {
     "ename": "TypeError",
     "evalue": "unhashable type: 'list'",
     "output_type": "error",
     "traceback": [
      "\u001b[1;31m---------------------------------------------------------------------------\u001b[0m",
      "\u001b[1;31mTypeError\u001b[0m                                 Traceback (most recent call last)",
      "\u001b[1;32m<ipython-input-14-fc4e274eb32f>\u001b[0m in \u001b[0;36m<module>\u001b[1;34m\u001b[0m\n\u001b[0;32m      1\u001b[0m \u001b[0mlst\u001b[0m \u001b[1;33m=\u001b[0m \u001b[1;33m[\u001b[0m\u001b[1;34m'apple'\u001b[0m\u001b[1;33m,\u001b[0m \u001b[1;34m'mango'\u001b[0m\u001b[1;33m]\u001b[0m\u001b[1;33m\u001b[0m\u001b[1;33m\u001b[0m\u001b[0m\n\u001b[1;32m----> 2\u001b[1;33m \u001b[0mdct1\u001b[0m \u001b[1;33m=\u001b[0m \u001b[1;33m{\u001b[0m\u001b[0mlst\u001b[0m\u001b[1;33m:\u001b[0m\u001b[1;34m'value'\u001b[0m\u001b[1;33m}\u001b[0m\u001b[1;33m\u001b[0m\u001b[1;33m\u001b[0m\u001b[0m\n\u001b[0m\u001b[0;32m      3\u001b[0m \u001b[0mprint\u001b[0m\u001b[1;33m(\u001b[0m\u001b[0mdct1\u001b[0m\u001b[1;33m)\u001b[0m\u001b[1;33m\u001b[0m\u001b[1;33m\u001b[0m\u001b[0m\n",
      "\u001b[1;31mTypeError\u001b[0m: unhashable type: 'list'"
     ]
    }
   ],
   "source": [
    "lst = ['apple', 'mango']\n",
    "dct1 = {lst:'value'}\n",
    "print(dct1)"
   ]
  },
  {
   "cell_type": "markdown",
   "metadata": {},
   "source": [
    "<h1 align='center'>\n",
    "    <font color='magenta'>END</font>\n",
    "</h1>"
   ]
  }
 ],
 "metadata": {
  "kernelspec": {
   "display_name": "Python 3",
   "language": "python",
   "name": "python3"
  },
  "language_info": {
   "codemirror_mode": {
    "name": "ipython",
    "version": 3
   },
   "file_extension": ".py",
   "mimetype": "text/x-python",
   "name": "python",
   "nbconvert_exporter": "python",
   "pygments_lexer": "ipython3",
   "version": "3.7.6"
  }
 },
 "nbformat": 4,
 "nbformat_minor": 4
}
