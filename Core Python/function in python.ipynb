{
 "cells": [
  {
   "cell_type": "markdown",
   "metadata": {},
   "source": [
    "# Function\n",
    "ref: - Eric Matthes, Python Crash Course"
   ]
  },
  {
   "cell_type": "code",
   "execution_count": 1,
   "metadata": {},
   "outputs": [
    {
     "name": "stdout",
     "output_type": "stream",
     "text": [
      "Hello!\n"
     ]
    }
   ],
   "source": [
    "def greet_user():\n",
    "    print(\"Hello!\")\n",
    "\n",
    "greet_user()"
   ]
  },
  {
   "cell_type": "markdown",
   "metadata": {},
   "source": [
    "#### Passing information to function"
   ]
  },
  {
   "cell_type": "code",
   "execution_count": 2,
   "metadata": {},
   "outputs": [
    {
     "name": "stdout",
     "output_type": "stream",
     "text": [
      "Hello, Jesse!\n"
     ]
    }
   ],
   "source": [
    "def greet_user(username):\n",
    "    print(\"Hello, \"+username.title()+\"!\")\n",
    "\n",
    "greet_user('Jesse')"
   ]
  },
  {
   "cell_type": "markdown",
   "metadata": {},
   "source": [
    "#### Passing Argument: Positional,    Keyword argument"
   ]
  },
  {
   "cell_type": "code",
   "execution_count": 3,
   "metadata": {},
   "outputs": [
    {
     "name": "stdout",
     "output_type": "stream",
     "text": [
      "Angel Jesse\n"
     ]
    }
   ],
   "source": [
    "# positional argument\n",
    "def name(first_name, last_name):\n",
    "    print(first_name+' '+last_name)\n",
    "\n",
    "name('Angel', 'Jesse')"
   ]
  },
  {
   "cell_type": "code",
   "execution_count": 5,
   "metadata": {},
   "outputs": [
    {
     "name": "stdout",
     "output_type": "stream",
     "text": [
      "Angel Jesse\n",
      "Angel Jesse\n"
     ]
    }
   ],
   "source": [
    "# keyword argument\n",
    "def name(first_name, last_name):\n",
    "    print(first_name+' '+last_name)\n",
    "\n",
    "name(first_name=\"Angel\", last_name=\"Jesse\")\n",
    "name(last_name=\"Jesse\", first_name=\"Angel\")"
   ]
  },
  {
   "cell_type": "markdown",
   "metadata": {},
   "source": [
    "#### Defualt Value"
   ]
  },
  {
   "cell_type": "code",
   "execution_count": 8,
   "metadata": {},
   "outputs": [
    {
     "name": "stdout",
     "output_type": "stream",
     "text": [
      "7\n",
      "6\n"
     ]
    }
   ],
   "source": [
    "def add5(n,a=5):\n",
    "    print(n+a)\n",
    "add5(2)\n",
    "add5(2,4)"
   ]
  },
  {
   "cell_type": "markdown",
   "metadata": {},
   "source": [
    "#### Return Value"
   ]
  },
  {
   "cell_type": "code",
   "execution_count": 9,
   "metadata": {},
   "outputs": [
    {
     "name": "stdout",
     "output_type": "stream",
     "text": [
      "Yuka Joll\n"
     ]
    }
   ],
   "source": [
    "def name(fname,lname):\n",
    "    full_name=fname+' '+lname\n",
    "    return full_name.title()\n",
    "\n",
    "print(name(\"Yuka\", \"Joll\"))"
   ]
  },
  {
   "cell_type": "markdown",
   "metadata": {},
   "source": [
    "#### Making argument optional"
   ]
  },
  {
   "cell_type": "code",
   "execution_count": 11,
   "metadata": {},
   "outputs": [
    {
     "name": "stdout",
     "output_type": "stream",
     "text": [
      "Yuka Lee Joll\n",
      "Yuka Lee\n"
     ]
    }
   ],
   "source": [
    "def name(fname,lname,mname=''):\n",
    "    if mname:\n",
    "        full_name=fname+' '+mname+' '+lname\n",
    "    else:\n",
    "        full_name=fname+' '+lname\n",
    "    return full_name.title()\n",
    "\n",
    "print(name(\"Yuka\", \"Joll\", \"Lee\"))\n",
    "print(name(\"Yuka\", \"Lee\"))"
   ]
  },
  {
   "cell_type": "markdown",
   "metadata": {},
   "source": [
    "#### Returning a dictionary"
   ]
  },
  {
   "cell_type": "code",
   "execution_count": 12,
   "metadata": {},
   "outputs": [
    {
     "name": "stdout",
     "output_type": "stream",
     "text": [
      "{'f': 'Mr.', 'l': 'wook'}\n"
     ]
    }
   ],
   "source": [
    "def build_name(fname,lname):\n",
    "    name={'f':fname,'l':lname}\n",
    "    return name\n",
    "\n",
    "lawyer=build_name('Mr.','wook')\n",
    "print(lawyer)"
   ]
  },
  {
   "cell_type": "markdown",
   "metadata": {},
   "source": [
    "#### Passing a List to function as argument"
   ]
  },
  {
   "cell_type": "code",
   "execution_count": 14,
   "metadata": {},
   "outputs": [
    {
     "name": "stdout",
     "output_type": "stream",
     "text": [
      "Hello, John!\n",
      "Hello, Ada!\n",
      "Hello, Chong!\n"
     ]
    },
    {
     "data": {
      "text/plain": [
       "['john', 'ada', 'chong']"
      ]
     },
     "execution_count": 14,
     "metadata": {},
     "output_type": "execute_result"
    }
   ],
   "source": [
    "def greet_users(names):\n",
    "    for name in names:\n",
    "        print(\"Hello, \"+name.title()+\"!\")\n",
    "        \n",
    "        # list can be modified in the function -see this ?>\n",
    "        name=name.title()\n",
    "\n",
    "usernames=['john','ada','chong']\n",
    "greet_users(usernames)\n",
    "usernames"
   ]
  },
  {
   "cell_type": "markdown",
   "metadata": {},
   "source": [
    "#### Passing an Arbitraty Number of Arguments"
   ]
  },
  {
   "cell_type": "code",
   "execution_count": 17,
   "metadata": {},
   "outputs": [
    {
     "name": "stdout",
     "output_type": "stream",
     "text": [
      "('pepperoni',)\n",
      "Make pizza with following toppings: -\n",
      "-pepperoni\n",
      "('mushrooms', 'green peppers', 'extra cheese')\n",
      "Make pizza with following toppings: -\n",
      "-mushrooms\n",
      "-green peppers\n",
      "-extra cheese\n"
     ]
    }
   ],
   "source": [
    "def make_pizza(*toppings): # *toppings create an empty tuple named toppings\n",
    "\n",
    "    print(toppings)\n",
    "    print(\"Make pizza with following toppings: -\")\n",
    "\n",
    "    for topping in toppings:\n",
    "        print('-'+topping)\n",
    "\n",
    "make_pizza('pepperoni')\n",
    "make_pizza('mushrooms', 'green peppers', 'extra cheese')"
   ]
  },
  {
   "cell_type": "markdown",
   "metadata": {},
   "source": [
    "#### Using Arbitrary keyword arguments"
   ]
  },
  {
   "cell_type": "code",
   "execution_count": 19,
   "metadata": {},
   "outputs": [
    {
     "name": "stdout",
     "output_type": "stream",
     "text": [
      "{'first name': 'John', 'last name': 'Mill', 'location': 'Manchester', 'field': 'Economis'}\n"
     ]
    }
   ],
   "source": [
    "def build_profile(fname, lname, **user_info): # python creates an empty dictionary called user_info\n",
    "    profile={}\n",
    "    profile['first name']=fname\n",
    "    profile['last name']=lname\n",
    "    for key, value in user_info.items():\n",
    "        profile[key]=value\n",
    "    return profile\n",
    "\n",
    "user_profile=build_profile('John','Mill',location='Manchester', field='Economis')\n",
    "print(user_profile)"
   ]
  },
  {
   "cell_type": "code",
   "execution_count": null,
   "metadata": {},
   "outputs": [],
   "source": []
  }
 ],
 "metadata": {
  "kernelspec": {
   "display_name": "Python 3",
   "language": "python",
   "name": "python3"
  },
  "language_info": {
   "codemirror_mode": {
    "name": "ipython",
    "version": 3
   },
   "file_extension": ".py",
   "mimetype": "text/x-python",
   "name": "python",
   "nbconvert_exporter": "python",
   "pygments_lexer": "ipython3",
   "version": "3.7.6"
  }
 },
 "nbformat": 4,
 "nbformat_minor": 4
}
