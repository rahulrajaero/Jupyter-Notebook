{
 "cells": [
  {
   "cell_type": "markdown",
   "metadata": {},
   "source": [
    "<h1 align='center'>Tuple</h1><br/>"
   ]
  },
  {
   "cell_type": "markdown",
   "metadata": {},
   "source": [
    "**Tuple:** ```ordered```, ```immutable```, ```allow duplicate```"
   ]
  },
  {
   "cell_type": "code",
   "execution_count": 1,
   "metadata": {},
   "outputs": [
    {
     "name": "stdout",
     "output_type": "stream",
     "text": [
      "('apple', 12, 12)\n"
     ]
    }
   ],
   "source": [
    "mytuple = ('apple', 12, 12)\n",
    "print(mytuple)"
   ]
  },
  {
   "cell_type": "code",
   "execution_count": 2,
   "metadata": {},
   "outputs": [
    {
     "name": "stdout",
     "output_type": "stream",
     "text": [
      "('one',)\n"
     ]
    }
   ],
   "source": [
    "one_tuple = ('one',)\n",
    "print(one_tuple)"
   ]
  },
  {
   "cell_type": "markdown",
   "metadata": {},
   "source": [
    "#### Create tuple from list"
   ]
  },
  {
   "cell_type": "code",
   "execution_count": 3,
   "metadata": {},
   "outputs": [
    {
     "name": "stdout",
     "output_type": "stream",
     "text": [
      "(0, 1, 2, 3, 4, 5, 6, 7, 8, 9)\n"
     ]
    }
   ],
   "source": [
    "mylist = [x for x in range(10)]\n",
    "mytuple1 = tuple(mylist)\n",
    "print(mytuple1)"
   ]
  },
  {
   "cell_type": "markdown",
   "metadata": {},
   "source": [
    "#### Count"
   ]
  },
  {
   "cell_type": "code",
   "execution_count": 4,
   "metadata": {},
   "outputs": [
    {
     "name": "stdout",
     "output_type": "stream",
     "text": [
      "2\n",
      "1\n"
     ]
    }
   ],
   "source": [
    "print(mytuple.count(12))\n",
    "print(mytuple1.count(2))"
   ]
  },
  {
   "cell_type": "markdown",
   "metadata": {},
   "source": [
    "#### get index"
   ]
  },
  {
   "cell_type": "code",
   "execution_count": 5,
   "metadata": {},
   "outputs": [
    {
     "name": "stdout",
     "output_type": "stream",
     "text": [
      "1\n"
     ]
    }
   ],
   "source": [
    "print(mytuple.index(12))"
   ]
  },
  {
   "cell_type": "markdown",
   "metadata": {},
   "source": [
    "#### Convert tuple to list "
   ]
  },
  {
   "cell_type": "code",
   "execution_count": 6,
   "metadata": {},
   "outputs": [
    {
     "name": "stdout",
     "output_type": "stream",
     "text": [
      "['apple', 12, 12]\n"
     ]
    }
   ],
   "source": [
    "mylist1 = list(mytuple)\n",
    "print(mylist1)"
   ]
  },
  {
   "cell_type": "markdown",
   "metadata": {},
   "source": [
    "#### Create several variables using tuple"
   ]
  },
  {
   "cell_type": "code",
   "execution_count": 8,
   "metadata": {},
   "outputs": [
    {
     "name": "stdout",
     "output_type": "stream",
     "text": [
      "apple\n",
      "1974\n",
      "Steve Jobs\n"
     ]
    }
   ],
   "source": [
    "mytuple2 = \"apple\", 1974, \"Steve Jobs\"\n",
    "company_name, year, founder = mytuple2\n",
    "print(company_name)\n",
    "print(year)\n",
    "print(founder)"
   ]
  },
  {
   "cell_type": "code",
   "execution_count": 9,
   "metadata": {},
   "outputs": [
    {
     "name": "stdout",
     "output_type": "stream",
     "text": [
      "0\n",
      "1\n",
      "[2, 3, 4, 5]\n",
      "6\n"
     ]
    }
   ],
   "source": [
    "# what if we specify less variables in large tuple\n",
    "# then we can use '*' to unpack several variables\n",
    "\n",
    "my_tuple3 = (0,1,2,3,4,5,6)\n",
    "x1, x2, *x3, x4 = my_tuple3\n",
    "print(x1)\n",
    "print(x2)\n",
    "print(x3)\n",
    "print(x4)"
   ]
  },
  {
   "cell_type": "markdown",
   "metadata": {},
   "source": [
    "```Tuples``` are preferred over ```list``` if possible. see beloq why?"
   ]
  },
  {
   "cell_type": "code",
   "execution_count": 14,
   "metadata": {},
   "outputs": [
    {
     "name": "stdout",
     "output_type": "stream",
     "text": [
      "(0, 1, 2, 3, 4, 5, 6) Tuple:  104 bytes\n",
      "[0, 1, 2, 3, 4, 5, 6]  List:  144 bytes\n"
     ]
    }
   ],
   "source": [
    "# my_tuple3\n",
    "import sys\n",
    "my_list = list(my_tuple3)\n",
    "\n",
    "print(my_tuple3, 'Tuple: ',sys.getsizeof(my_tuple3), 'bytes')\n",
    "print(my_list, ' List: ', sys.getsizeof(my_list), 'bytes')"
   ]
  },
  {
   "cell_type": "code",
   "execution_count": 18,
   "metadata": {},
   "outputs": [
    {
     "name": "stdout",
     "output_type": "stream",
     "text": [
      "0.02897239999992962\n",
      "0.14542610000012246\n"
     ]
    }
   ],
   "source": [
    "# timeit, we will see creation of tuple is much faster than list\n",
    "import timeit\n",
    "print(timeit.timeit(stmt = '(0,1,2,3)', number = 1000000))\n",
    "print(timeit.timeit(stmt = '[0,1,2,3]', number = 1000000))"
   ]
  },
  {
   "cell_type": "code",
   "execution_count": null,
   "metadata": {},
   "outputs": [],
   "source": []
  }
 ],
 "metadata": {
  "kernelspec": {
   "display_name": "Python 3",
   "language": "python",
   "name": "python3"
  },
  "language_info": {
   "codemirror_mode": {
    "name": "ipython",
    "version": 3
   },
   "file_extension": ".py",
   "mimetype": "text/x-python",
   "name": "python",
   "nbconvert_exporter": "python",
   "pygments_lexer": "ipython3",
   "version": "3.7.6"
  }
 },
 "nbformat": 4,
 "nbformat_minor": 4
}
