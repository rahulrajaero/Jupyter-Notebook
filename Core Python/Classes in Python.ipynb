{
 "cells": [
  {
   "cell_type": "markdown",
   "metadata": {},
   "source": [
    "# Class"
   ]
  },
  {
   "cell_type": "markdown",
   "metadata": {},
   "source": [
    "ref: Eric Matthes, Python Crash Course"
   ]
  },
  {
   "cell_type": "code",
   "execution_count": 13,
   "metadata": {},
   "outputs": [],
   "source": [
    "# create dog class\n",
    "\n",
    "class dog():\n",
    "    # constructor in python\n",
    "    def __init__(self, name, age):\n",
    "        self.name=name\n",
    "        self.age=age # variables accessed through instance like this are called attributes. Here name and age are attributes.\n",
    "        self.species='indian'  # setting a defualt value for a attribute\n",
    "        \n",
    "    # methods in class\n",
    "    def sit(self):\n",
    "        print(self.name.title()+\" is now sitting.\") # title() make the sentence each word first letter capital\n",
    "    \n",
    "    def roll_over(self):\n",
    "        print(self.name.title()+\" rolled over!\")    "
   ]
  },
  {
   "cell_type": "code",
   "execution_count": 12,
   "metadata": {},
   "outputs": [
    {
     "name": "stdout",
     "output_type": "stream",
     "text": [
      "Tommy\n",
      "4\n",
      "india\n",
      "Tommy is now sitting.\n",
      "Tommy rolled over!\n"
     ]
    }
   ],
   "source": [
    "# create instance of dog class\n",
    "my_dog=dog('Tommy', 4)\n",
    "\n",
    "# accessing the attributes\n",
    "print(my_dog.name)\n",
    "print(my_dog.age)\n",
    "print(my_dog.species)\n",
    "\n",
    "# invoking methods\n",
    "my_dog.sit()\n",
    "my_dog.roll_over()"
   ]
  },
  {
   "cell_type": "markdown",
   "metadata": {},
   "source": [
    "#### Modifying attributes value: directly, through method"
   ]
  },
  {
   "cell_type": "code",
   "execution_count": 15,
   "metadata": {},
   "outputs": [
    {
     "name": "stdout",
     "output_type": "stream",
     "text": [
      "German\n"
     ]
    }
   ],
   "source": [
    "# directly modifying the value of attribute\n",
    "my_dog.species=\"German\"\n",
    "print(my_dog.species)"
   ]
  },
  {
   "cell_type": "code",
   "execution_count": 16,
   "metadata": {},
   "outputs": [
    {
     "ename": "IndentationError",
     "evalue": "unexpected indent (<ipython-input-16-e75f1c323ecc>, line 3)",
     "output_type": "error",
     "traceback": [
      "\u001b[1;36m  File \u001b[1;32m\"<ipython-input-16-e75f1c323ecc>\"\u001b[1;36m, line \u001b[1;32m3\u001b[0m\n\u001b[1;33m    '''--snip--'''\u001b[0m\n\u001b[1;37m    ^\u001b[0m\n\u001b[1;31mIndentationError\u001b[0m\u001b[1;31m:\u001b[0m unexpected indent\n"
     ]
    }
   ],
   "source": [
    "# through methods \n",
    "'''class dog():'''\n",
    "    '''--snip--'''\n",
    "    def modify_species(self):\n",
    "        self.species='German'"
   ]
  },
  {
   "cell_type": "markdown",
   "metadata": {},
   "source": [
    "#### Do exercise 9-4 p.171"
   ]
  },
  {
   "cell_type": "markdown",
   "metadata": {},
   "source": [
    "#### for inheritance, module, library creation see python folder written in visual studio book "
   ]
  }
 ],
 "metadata": {
  "kernelspec": {
   "display_name": "Python 3",
   "language": "python",
   "name": "python3"
  },
  "language_info": {
   "codemirror_mode": {
    "name": "ipython",
    "version": 3
   },
   "file_extension": ".py",
   "mimetype": "text/x-python",
   "name": "python",
   "nbconvert_exporter": "python",
   "pygments_lexer": "ipython3",
   "version": "3.7.6"
  }
 },
 "nbformat": 4,
 "nbformat_minor": 4
}
