{
 "cells": [
  {
   "cell_type": "code",
   "execution_count": 2,
   "metadata": {},
   "outputs": [],
   "source": [
    "def function1(function):\n",
    "    def wrapper():\n",
    "        print(\"hello\")\n",
    "        function()\n",
    "        print(\"Welcome to python Edureka tutorial\")\n",
    "    return wrapper\n",
    "\n",
    "def function2():\n",
    "    print(\"pythonisa\")"
   ]
  },
  {
   "cell_type": "code",
   "execution_count": 5,
   "metadata": {},
   "outputs": [
    {
     "name": "stdout",
     "output_type": "stream",
     "text": [
      "hello\n",
      "hello\n",
      "hello\n",
      "pythonisa\n",
      "Welcome to python Edureka tutorial\n",
      "Welcome to python Edureka tutorial\n",
      "Welcome to python Edureka tutorial\n"
     ]
    }
   ],
   "source": [
    "function2 = function1(function2)\n",
    "function2()"
   ]
  },
  {
   "cell_type": "code",
   "execution_count": null,
   "metadata": {},
   "outputs": [],
   "source": []
  }
 ],
 "metadata": {
  "kernelspec": {
   "display_name": "Python 3",
   "language": "python",
   "name": "python3"
  },
  "language_info": {
   "codemirror_mode": {
    "name": "ipython",
    "version": 3
   },
   "file_extension": ".py",
   "mimetype": "text/x-python",
   "name": "python",
   "nbconvert_exporter": "python",
   "pygments_lexer": "ipython3",
   "version": "3.7.6"
  }
 },
 "nbformat": 4,
 "nbformat_minor": 4
}
