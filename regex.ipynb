{
 "cells": [
  {
   "cell_type": "code",
   "execution_count": 11,
   "metadata": {},
   "outputs": [],
   "source": [
    "import re\n",
    "from functools import reduce"
   ]
  },
  {
   "cell_type": "code",
   "execution_count": 14,
   "metadata": {},
   "outputs": [
    {
     "name": "stdout",
     "output_type": "stream",
     "text": [
      "445833\n"
     ]
    }
   ],
   "source": [
    "f = open('E:/Python/python for everybody/Using Python to Access Web Data/regex_sum_42.txt','r')\n",
    "sum = 0\n",
    "for line in f:\n",
    "    s = re.findall('[0-9]+', line)\n",
    "    if s==[]:\n",
    "        continue\n",
    "    else:\n",
    "        int_list = list(map(lambda x:int(x), s))\n",
    "        sum_list = reduce(lambda a,b:a+b, int_list)\n",
    "    sum = sum + sum_list\n",
    "\n",
    "print(sum)"
   ]
  },
  {
   "cell_type": "code",
   "execution_count": 15,
   "metadata": {},
   "outputs": [
    {
     "name": "stdout",
     "output_type": "stream",
     "text": [
      "467433\n"
     ]
    }
   ],
   "source": [
    "fh = open('E:/Python/python for everybody/Using Python to Access Web Data/regex_sum_947806.txt','r')\n",
    "sum1 = 0\n",
    "for line in fh:\n",
    "    s1 = re.findall('[0-9]+', line)\n",
    "    if s1==[]:\n",
    "        continue\n",
    "    else:\n",
    "        int_list1 = list(map(lambda x:int(x), s1))\n",
    "        sum_list1 = reduce(lambda a,b:a+b, int_list1)\n",
    "    sum1 = sum1 + sum_list1\n",
    "\n",
    "print(sum1)"
   ]
  },
  {
   "cell_type": "code",
   "execution_count": null,
   "metadata": {},
   "outputs": [],
   "source": []
  }
 ],
 "metadata": {
  "kernelspec": {
   "display_name": "Python 3",
   "language": "python",
   "name": "python3"
  },
  "language_info": {
   "codemirror_mode": {
    "name": "ipython",
    "version": 3
   },
   "file_extension": ".py",
   "mimetype": "text/x-python",
   "name": "python",
   "nbconvert_exporter": "python",
   "pygments_lexer": "ipython3",
   "version": "3.7.6"
  }
 },
 "nbformat": 4,
 "nbformat_minor": 4
}
