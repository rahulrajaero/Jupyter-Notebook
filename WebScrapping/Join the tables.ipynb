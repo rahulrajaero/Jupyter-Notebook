{
 "cells": [
  {
   "cell_type": "code",
   "execution_count": 1,
   "metadata": {},
   "outputs": [],
   "source": [
    "# import the library\n",
    "import psycopg2"
   ]
  },
  {
   "cell_type": "code",
   "execution_count": 17,
   "metadata": {},
   "outputs": [],
   "source": [
    "# connect to database\n",
    "try:\n",
    "    connection = psycopg2.connect(user = 'postgres',\n",
    "                                 password = '0000!',\n",
    "                                 database = 'disney_movies',\n",
    "                                 port = '5432',\n",
    "                                 host = '127.0.0.1')\n",
    "    cur = connection.cursor()\n",
    "    \n",
    "except (Exception, psycopg2.Error) as e:\n",
    "    print(\"Following error occured while connecting to database: - \", e)"
   ]
  },
  {
   "cell_type": "markdown",
   "metadata": {},
   "source": [
    "### Perform ```INNER JOIN``` on ```movies``` & ```movies_data```"
   ]
  },
  {
   "cell_type": "code",
   "execution_count": 8,
   "metadata": {},
   "outputs": [],
   "source": [
    "drop_id_col = '''ALTER TABLE movies_data DROP COLUMN id'''\n",
    "cur.execute(drop_id_col)\n",
    "connection.commit()"
   ]
  },
  {
   "cell_type": "code",
   "execution_count": 13,
   "metadata": {},
   "outputs": [],
   "source": [
    "change_col_name = '''ALTER TABLE movies_data RENAME COLUMN title TO name'''\n",
    "cur.execute(change_col_name)\n",
    "connection.commit()"
   ]
  },
  {
   "cell_type": "code",
   "execution_count": 18,
   "metadata": {},
   "outputs": [],
   "source": [
    "# Create movies_table with inner join\n",
    "movies_table = '''CREATE TABLE movies_table as\n",
    "                SELECT * FROM movies\n",
    "                INNER JOIN\n",
    "                movies_data ON movies.title = movies_data.name;'''\n",
    "\n",
    "cur.execute(movies_table)\n",
    "connection.commit()"
   ]
  },
  {
   "cell_type": "markdown",
   "metadata": {},
   "source": [
    "### We are done with ```postgreSQL``` database. So, let's close it."
   ]
  },
  {
   "cell_type": "code",
   "execution_count": 19,
   "metadata": {},
   "outputs": [
    {
     "name": "stdout",
     "output_type": "stream",
     "text": [
      "Connection Closed!\n"
     ]
    }
   ],
   "source": [
    "# close database connection\n",
    "if connection:\n",
    "    cur.close()\n",
    "    connection.close()\n",
    "    print(\"Connection Closed!\")"
   ]
  },
  {
   "cell_type": "markdown",
   "metadata": {},
   "source": [
    "# END"
   ]
  }
 ],
 "metadata": {
  "kernelspec": {
   "display_name": "Python 3",
   "language": "python",
   "name": "python3"
  },
  "language_info": {
   "codemirror_mode": {
    "name": "ipython",
    "version": 3
   },
   "file_extension": ".py",
   "mimetype": "text/x-python",
   "name": "python",
   "nbconvert_exporter": "python",
   "pygments_lexer": "ipython3",
   "version": "3.7.6"
  }
 },
 "nbformat": 4,
 "nbformat_minor": 4
}
