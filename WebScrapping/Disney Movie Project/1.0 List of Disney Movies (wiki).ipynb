{
 "cells": [
  {
   "cell_type": "markdown",
   "metadata": {},
   "source": [
    "<br/><h1 align='center'> <font color='blue'>Scrapping the List of Disney Movies from WIKI </font></h1><br/><br/>"
   ]
  },
  {
   "cell_type": "markdown",
   "metadata": {},
   "source": [
    "This is an end-to-end data science project where we extract the data from internet, store it into our database, do some manipulations using SQL then get the data in ```csv``` format for our data science project."
   ]
  },
  {
   "cell_type": "markdown",
   "metadata": {},
   "source": [
    "#### Requirements:\n",
    "* ```Python 3```\n",
    "* ```PostgreSQL```\n",
    "* ```BeautifulSoup``` library\n",
    "* ```Psycopg2``` library to interact with database "
   ]
  },
  {
   "cell_type": "markdown",
   "metadata": {},
   "source": [
    "#### Import the libraries"
   ]
  },
  {
   "cell_type": "code",
   "execution_count": 1,
   "metadata": {},
   "outputs": [],
   "source": [
    "# import the necessary libraries\n",
    "from urllib.request import urlopen\n",
    "from bs4 import BeautifulSoup\n",
    "import psycopg2"
   ]
  },
  {
   "cell_type": "markdown",
   "metadata": {},
   "source": [
    "#### Enter the ```wiki URL```"
   ]
  },
  {
   "cell_type": "code",
   "execution_count": null,
   "metadata": {},
   "outputs": [],
   "source": [
    "try:\n",
    "    url = input(\"Enter the Disney Movies WIKI URL: - \")\n",
    "except:\n",
    "    url = 'https://en.wikipedia.org/wiki/List_of_Walt_Disney_Pictures_films'"
   ]
  },
  {
   "cell_type": "markdown",
   "metadata": {},
   "source": [
    "#### Read the html file"
   ]
  },
  {
   "cell_type": "markdown",
   "metadata": {},
   "source": [
    "For web scrapping, we will use ```BeautifulSoup``` library which is an amazing library to work on ```html and lxml``` file. It is not an in-built library so install it using following command:<br/><br/>\n",
    "```pip install bs4```. <br/><br/>\n",
    "For more <a href='#'>visit here</a>."
   ]
  },
  {
   "cell_type": "code",
   "execution_count": null,
   "metadata": {},
   "outputs": [],
   "source": [
    "# get the html & BeautifulSoup object\n",
    "html = urlopen(url).read()\n",
    "soup = BeautifulSoup(html, 'html.parser')"
   ]
  },
  {
   "cell_type": "markdown",
   "metadata": {},
   "source": [
    "<br/>Go and take a look at ```wikipedia page``` of disney movies (<a href='#'>click here</a>)"
   ]
  },
  {
   "cell_type": "markdown",
   "metadata": {},
   "source": [
    "Let's see print out the ```soup``` object."
   ]
  },
  {
   "cell_type": "code",
   "execution_count": null,
   "metadata": {},
   "outputs": [],
   "source": [
    "print(soup.prettify())"
   ]
  },
  {
   "cell_type": "markdown",
   "metadata": {},
   "source": [
    "<br/>We see all movies are in ```table``` form. Extract it with ```.find_all()``` function."
   ]
  },
  {
   "cell_type": "code",
   "execution_count": null,
   "metadata": {},
   "outputs": [],
   "source": [
    "# get the movies table from soup object\n",
    "movies_table = soup.find_all('table')\n",
    "print(movies_table.prettif())"
   ]
  },
  {
   "cell_type": "markdown",
   "metadata": {},
   "source": [
    "#### ```movies table``` are from table 1 to 10 only"
   ]
  },
  {
   "cell_type": "code",
   "execution_count": null,
   "metadata": {},
   "outputs": [],
   "source": [
    "# let's get the first table and see it how does it look like\n",
    "first_table = movies_table[1]\n",
    "type(first_table)\n",
    "print(first_table.prettify())"
   ]
  },
  {
   "cell_type": "markdown",
   "metadata": {},
   "source": [
    "### Create the ```movies``` table in ```disney_movies``` database"
   ]
  },
  {
   "cell_type": "markdown",
   "metadata": {},
   "source": [
    "To store the data which we will extract from wiki source, connect to our database called ```disney_movies```. \n",
    "<br/>\n",
    "First of all create the database. Run the following command in ```psql```.\n",
    "<br/><br/>\n",
    "``` postgres=# CREATE DATABASE disney_movies;```"
   ]
  },
  {
   "cell_type": "markdown",
   "metadata": {},
   "source": [
    "#### Now connect to the database"
   ]
  },
  {
   "cell_type": "code",
   "execution_count": null,
   "metadata": {},
   "outputs": [],
   "source": [
    "# connect with database\n",
    "try:\n",
    "    connection = psycopg2.connect(user = 'postgres', # enter your details here\n",
    "                                 password = '0000!',\n",
    "                                 host = '127.0.0.1',\n",
    "                                 port = '5432',\n",
    "                                 database = 'disney_movies')\n",
    "    cur = connection.cursor()\n",
    "    \n",
    "    # print PostgreSQL connection properties\n",
    "    print(connection.get_dsn_parameters(),\"\\n\")\n",
    "    \n",
    "except (Exception, psycopg2.Error) as error:\n",
    "    print(\"ERROR occured while connecting to PostgreSQL\", error)   "
   ]
  },
  {
   "cell_type": "markdown",
   "metadata": {},
   "source": [
    "### Create the ```movies``` table"
   ]
  },
  {
   "cell_type": "markdown",
   "metadata": {},
   "source": [
    "<br/>Our connection with database was successful. It time to create the table for storage of movies. "
   ]
  },
  {
   "cell_type": "code",
   "execution_count": null,
   "metadata": {},
   "outputs": [],
   "source": [
    "create_table = '''CREATE TABLE movies(\n",
    "                    id BIGSERIAL PRIMARY KEY NOT NULL,\n",
    "                    Type_of_Film VARCHAR(5),\n",
    "                    Title VARCHAR(150),\n",
    "                    US_Release DATE,\n",
    "                    Link VARCHAR(100));'''\n",
    "cur.execute(create_table)\n",
    "connection.commit()\n",
    "print(\"Table created successfully in PostgreSQL \")"
   ]
  },
  {
   "cell_type": "code",
   "execution_count": null,
   "metadata": {},
   "outputs": [],
   "source": []
  },
  {
   "cell_type": "markdown",
   "metadata": {},
   "source": [
    "#### Create ```NoneType``` object for matching the link"
   ]
  },
  {
   "cell_type": "code",
   "execution_count": null,
   "metadata": {},
   "outputs": [],
   "source": [
    "doc = '''\n",
    "<html>\n",
    "<td>hey</td>\n",
    "</html>\n",
    "\n",
    "'''\n",
    "soup1=BeautifulSoup(doc)\n",
    "type(soup1.a)"
   ]
  },
  {
   "cell_type": "markdown",
   "metadata": {},
   "source": [
    "<br/> <h4> Define a function to process the table and get the data</h4>"
   ]
  },
  {
   "cell_type": "code",
   "execution_count": null,
   "metadata": {},
   "outputs": [],
   "source": [
    "def process_table(movie_table_data):\n",
    "    for index, row in enumerate(movie_table_data):\n",
    "        if index%4 == 0:\n",
    "            Type_of_Film = row.get_text(strip=True)\n",
    "            if Type_of_Film == 'The Mighty Ducks':\n",
    "                Type_of_Film = 'L'\n",
    "                index = index - 1\n",
    "        elif index%4 == 1:\n",
    "            Title = row.get_text(strip=True)\n",
    "            if type(row.a) is type(soup1.a):\n",
    "                Link = 'NoFound'\n",
    "            else:\n",
    "                Link = row.a['href']\n",
    "        elif index%4 == 2:\n",
    "            US_Release = row.get_text(strip=True)\n",
    "        else:\n",
    "            # send data to DataFrame or DATABASE\n",
    "            insert_query = '''INSERT INTO movies(Type_of_Film, Title, Link, US_Release) VALUES(%s, %s, %s, %s)'''\n",
    "            record_to_insert = (Type_of_Film, Title, Link, US_Release)\n",
    "            cur.execute(insert_query, record_to_insert)\n",
    "            connection.commit()\n",
    "            print(index//4,\" Insertion Successful!\")"
   ]
  },
  {
   "cell_type": "code",
   "execution_count": null,
   "metadata": {},
   "outputs": [],
   "source": [
    "'''We can see all data are in <td> tag. Lets process it one by one.'''\n",
    "\n",
    "# get the data from <td> tag\n",
    "# there are 10 tables. let's do for all\n",
    "for i in range(1,11):\n",
    "    \n",
    "    # let's for now skip the 1990s movies b/c of rowspan problem\n",
    "    if i == 7:\n",
    "        continue\n",
    "    movie_table_data = movies_table[i].find_all('td')\n",
    "    \n",
    "    # get data and insert it into database\n",
    "    process_table(movie_table_data)"
   ]
  },
  {
   "cell_type": "markdown",
   "metadata": {},
   "source": [
    "### Drop the rows where ```link``` is ```NoFound```"
   ]
  },
  {
   "cell_type": "markdown",
   "metadata": {},
   "source": [
    "<br/>Some movies have no information on internet. So we will drop those movies."
   ]
  },
  {
   "cell_type": "code",
   "execution_count": null,
   "metadata": {},
   "outputs": [],
   "source": [
    "drop_query = '''DELETE FROM movies WHERE link = 'NoFound';'''\n",
    "cur.execute(drop_query)\n",
    "connection.commit()\n",
    "print(\"Successful!\")"
   ]
  },
  {
   "cell_type": "markdown",
   "metadata": {},
   "source": [
    "### We are done with ```postgreSQL``` database. So, let's close it."
   ]
  },
  {
   "cell_type": "code",
   "execution_count": null,
   "metadata": {},
   "outputs": [],
   "source": [
    "# close database connection\n",
    "if connection:\n",
    "    cur.close()\n",
    "    connection.close()\n",
    "    print(\"Connection Closed!\")"
   ]
  },
  {
   "cell_type": "markdown",
   "metadata": {},
   "source": [
    "<br/>\n",
    "<h1 align='center'><font color='red'>----------------END---------------</font></h1><br/>"
   ]
  }
 ],
 "metadata": {
  "kernelspec": {
   "display_name": "Python 3",
   "language": "python",
   "name": "python3"
  },
  "language_info": {
   "codemirror_mode": {
    "name": "ipython",
    "version": 3
   },
   "file_extension": ".py",
   "mimetype": "text/x-python",
   "name": "python",
   "nbconvert_exporter": "python",
   "pygments_lexer": "ipython3",
   "version": "3.7.6"
  }
 },
 "nbformat": 4,
 "nbformat_minor": 4
}
