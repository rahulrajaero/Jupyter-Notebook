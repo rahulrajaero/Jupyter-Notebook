{
 "cells": [
  {
   "cell_type": "markdown",
   "metadata": {},
   "source": [
    "<br/><h1 align = 'center'> Reviews Sentiment Analysis </h1><br/><br/>"
   ]
  },
  {
   "cell_type": "markdown",
   "metadata": {},
   "source": [
    "We have successfully extracted the data from imdb. It was a lot of work - calling **OMDb API** to get the **imdbID** then scrappig the data one by one from imdb website. Now we are done with all those hustles. Let's do some ```Sentiment Analysis```"
   ]
  },
  {
   "cell_type": "code",
   "execution_count": 32,
   "metadata": {},
   "outputs": [],
   "source": [
    "# import the libraries\n",
    "import pandas as pd\n",
    "import numpy as np"
   ]
  },
  {
   "cell_type": "code",
   "execution_count": 13,
   "metadata": {},
   "outputs": [],
   "source": [
    "data = pd.read_csv('reviews.csv', header=None)"
   ]
  },
  {
   "cell_type": "code",
   "execution_count": 14,
   "metadata": {},
   "outputs": [
    {
     "name": "stdout",
     "output_type": "stream",
     "text": [
      "<class 'pandas.core.frame.DataFrame'>\n",
      "(1429, 4)\n"
     ]
    }
   ],
   "source": [
    "# let's see the data\n",
    "print(type(data))\n",
    "print(data.shape)"
   ]
  },
  {
   "cell_type": "code",
   "execution_count": 15,
   "metadata": {},
   "outputs": [
    {
     "name": "stdout",
     "output_type": "stream",
     "text": [
      "Empty DataFrame\n",
      "Columns: [0, 1, 2, 3]\n",
      "Index: []\n"
     ]
    }
   ],
   "source": [
    "print(data.head(0))"
   ]
  },
  {
   "cell_type": "code",
   "execution_count": 18,
   "metadata": {},
   "outputs": [
    {
     "name": "stdout",
     "output_type": "stream",
     "text": [
      "   0          1  2                                                  3\n",
      "0  1  tt0263027  5  A alright compilation film of the silly sympho...\n",
      "1  2  tt0029583  1  Where would the animation world be without the...\n",
      "2  3  tt0029583  1  There isn't much that hasn't already been said...\n",
      "3  4  tt0032910  1  There are a hundred great things about \"Pinocc...\n",
      "4  5  tt0032910  8  When I - and I assume, most people - think of ...\n"
     ]
    }
   ],
   "source": [
    "print(data.head())"
   ]
  },
  {
   "cell_type": "code",
   "execution_count": 19,
   "metadata": {},
   "outputs": [],
   "source": [
    "data.columns = ['i', 'imdbID', 'score', 'reviews']"
   ]
  },
  {
   "cell_type": "code",
   "execution_count": 21,
   "metadata": {},
   "outputs": [
    {
     "name": "stdout",
     "output_type": "stream",
     "text": [
      "   i     imdbID  score                                            reviews\n",
      "0  1  tt0263027      5  A alright compilation film of the silly sympho...\n",
      "1  2  tt0029583      1  Where would the animation world be without the...\n",
      "2  3  tt0029583      1  There isn't much that hasn't already been said...\n",
      "3  4  tt0032910      1  There are a hundred great things about \"Pinocc...\n",
      "4  5  tt0032910      8  When I - and I assume, most people - think of ...\n"
     ]
    }
   ],
   "source": [
    "print(data.head())"
   ]
  },
  {
   "cell_type": "code",
   "execution_count": 22,
   "metadata": {},
   "outputs": [
    {
     "name": "stdout",
     "output_type": "stream",
     "text": [
      "Empty DataFrame\n",
      "Columns: [i, imdbID, score, reviews]\n",
      "Index: []\n"
     ]
    }
   ],
   "source": [
    "print(data.head(0))"
   ]
  },
  {
   "cell_type": "code",
   "execution_count": 23,
   "metadata": {},
   "outputs": [
    {
     "data": {
      "text/plain": [
       "0       A alright compilation film of the silly sympho...\n",
       "1       Where would the animation world be without the...\n",
       "2       There isn't much that hasn't already been said...\n",
       "3       There are a hundred great things about \"Pinocc...\n",
       "4       When I - and I assume, most people - think of ...\n",
       "                              ...                        \n",
       "1424    1. Out of blue, Riley get sad and upset about ...\n",
       "1425    The plot of the story was well written but I f...\n",
       "1426    This film is the most boring I've watched in m...\n",
       "1427    If you'd ask me even if designed for children ...\n",
       "1428    I would usually watch a Pixar movie as most of...\n",
       "Name: reviews, Length: 1429, dtype: object"
      ]
     },
     "execution_count": 23,
     "metadata": {},
     "output_type": "execute_result"
    }
   ],
   "source": [
    "data.reviews"
   ]
  },
  {
   "cell_type": "code",
   "execution_count": 24,
   "metadata": {},
   "outputs": [],
   "source": [
    "# import textblob\n",
    "from textblob import TextBlob"
   ]
  },
  {
   "cell_type": "code",
   "execution_count": 30,
   "metadata": {},
   "outputs": [
    {
     "name": "stdout",
     "output_type": "stream",
     "text": [
      "<class 'textblob.en.sentiments.Sentiment'>\n",
      "Sentiment(polarity=-0.04696969696969696, subjectivity=0.5)\n"
     ]
    }
   ],
   "source": [
    "sentiment0 = TextBlob(data.reviews[0]).sentiment\n",
    "print(type(sentiment0))\n",
    "print(sentiment0)"
   ]
  },
  {
   "cell_type": "code",
   "execution_count": 34,
   "metadata": {},
   "outputs": [
    {
     "name": "stdout",
     "output_type": "stream",
     "text": [
      "0       0\n",
      "1       1\n",
      "2       1\n",
      "3       1\n",
      "4       1\n",
      "       ..\n",
      "1424    0\n",
      "1425    1\n",
      "1426    0\n",
      "1427    1\n",
      "1428    0\n",
      "Name: sentiment, Length: 1429, dtype: int32\n"
     ]
    }
   ],
   "source": [
    "data['sentiment'] = np.array([ 1 if TextBlob(review).sentiment.polarity>0 else 0 for review in data.reviews])\n",
    "print(data.sentiment)"
   ]
  },
  {
   "cell_type": "code",
   "execution_count": 37,
   "metadata": {},
   "outputs": [
    {
     "data": {
      "text/plain": [
       "1    1336\n",
       "0      93\n",
       "Name: sentiment, dtype: int64"
      ]
     },
     "execution_count": 37,
     "metadata": {},
     "output_type": "execute_result"
    }
   ],
   "source": [
    "data.sentiment.value_counts()"
   ]
  },
  {
   "cell_type": "markdown",
   "metadata": {},
   "source": [
    "This was very simple sentiment analysis using library called ```TextBlob```\n",
    "<br/>\n",
    "We will explore more how to do analysis without help of any library. "
   ]
  }
 ],
 "metadata": {
  "kernelspec": {
   "display_name": "Python 3",
   "language": "python",
   "name": "python3"
  },
  "language_info": {
   "codemirror_mode": {
    "name": "ipython",
    "version": 3
   },
   "file_extension": ".py",
   "mimetype": "text/x-python",
   "name": "python",
   "nbconvert_exporter": "python",
   "pygments_lexer": "ipython3",
   "version": "3.7.6"
  }
 },
 "nbformat": 4,
 "nbformat_minor": 4
}
