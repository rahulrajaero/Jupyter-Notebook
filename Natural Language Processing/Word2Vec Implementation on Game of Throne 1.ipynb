{
 "cells": [
  {
   "cell_type": "code",
   "execution_count": 105,
   "metadata": {},
   "outputs": [],
   "source": [
    "import gensim\n",
    "import numpy as np\n",
    "import pandas as pd\n",
    "import multiprocessing\n",
    "import sklearn.manifold\n",
    "import matplotlib.pyplot as plt"
   ]
  },
  {
   "cell_type": "code",
   "execution_count": 68,
   "metadata": {},
   "outputs": [],
   "source": [
    "f = open('./GOT/got1.txt','r', encoding='utf-8')"
   ]
  },
  {
   "cell_type": "code",
   "execution_count": 69,
   "metadata": {},
   "outputs": [],
   "source": [
    "df=[]\n",
    "for line in f:\n",
    "    df.append(line.strip('\\n'))"
   ]
  },
  {
   "cell_type": "code",
   "execution_count": 71,
   "metadata": {},
   "outputs": [],
   "source": [
    "df_set = set(df)"
   ]
  },
  {
   "cell_type": "code",
   "execution_count": 72,
   "metadata": {},
   "outputs": [],
   "source": [
    "dff = pd.DataFrame(df_set) "
   ]
  },
  {
   "cell_type": "code",
   "execution_count": 73,
   "metadata": {},
   "outputs": [
    {
     "data": {
      "text/html": [
       "<div>\n",
       "<style scoped>\n",
       "    .dataframe tbody tr th:only-of-type {\n",
       "        vertical-align: middle;\n",
       "    }\n",
       "\n",
       "    .dataframe tbody tr th {\n",
       "        vertical-align: top;\n",
       "    }\n",
       "\n",
       "    .dataframe thead th {\n",
       "        text-align: right;\n",
       "    }\n",
       "</style>\n",
       "<table border=\"1\" class=\"dataframe\">\n",
       "  <thead>\n",
       "    <tr style=\"text-align: right;\">\n",
       "      <th></th>\n",
       "      <th>0</th>\n",
       "    </tr>\n",
       "  </thead>\n",
       "  <tbody>\n",
       "    <tr>\n",
       "      <th>0</th>\n",
       "      <td></td>\n",
       "    </tr>\n",
       "    <tr>\n",
       "      <th>1</th>\n",
       "      <td>It was hard to make out what was happening, bu...</td>\n",
       "    </tr>\n",
       "    <tr>\n",
       "      <th>2</th>\n",
       "      <td>For a moment Arya forgot to breathe. Dead? Bra...</td>\n",
       "    </tr>\n",
       "    <tr>\n",
       "      <th>3</th>\n",
       "      <td>“The sea?”</td>\n",
       "    </tr>\n",
       "    <tr>\n",
       "      <th>4</th>\n",
       "      <td>There is, thought Jon, remembering the night i...</td>\n",
       "    </tr>\n",
       "  </tbody>\n",
       "</table>\n",
       "</div>"
      ],
      "text/plain": [
       "                                                   0\n",
       "0                                                   \n",
       "1  It was hard to make out what was happening, bu...\n",
       "2  For a moment Arya forgot to breathe. Dead? Bra...\n",
       "3                                         “The sea?”\n",
       "4  There is, thought Jon, remembering the night i..."
      ]
     },
     "execution_count": 73,
     "metadata": {},
     "output_type": "execute_result"
    }
   ],
   "source": [
    "dff.head()"
   ]
  },
  {
   "cell_type": "code",
   "execution_count": 74,
   "metadata": {},
   "outputs": [
    {
     "data": {
      "text/plain": [
       "(8278, 1)"
      ]
     },
     "execution_count": 74,
     "metadata": {},
     "output_type": "execute_result"
    }
   ],
   "source": [
    "dff.shape"
   ]
  },
  {
   "cell_type": "code",
   "execution_count": 79,
   "metadata": {},
   "outputs": [],
   "source": [
    "def pre_prcss(sent):\n",
    "    return gensim.utils.simple_preprocess(str(sent).encode('utf-8'))    "
   ]
  },
  {
   "cell_type": "code",
   "execution_count": 80,
   "metadata": {},
   "outputs": [],
   "source": [
    "documents = []\n",
    "for x in dff[0]:\n",
    "    documents.append(pre_prcss(x))"
   ]
  },
  {
   "cell_type": "code",
   "execution_count": 83,
   "metadata": {},
   "outputs": [
    {
     "data": {
      "text/plain": [
       "8278"
      ]
     },
     "execution_count": 83,
     "metadata": {},
     "output_type": "execute_result"
    }
   ],
   "source": [
    "len(documents)"
   ]
  },
  {
   "cell_type": "code",
   "execution_count": 84,
   "metadata": {},
   "outputs": [],
   "source": [
    "model = gensim.models.Word2Vec(size=150, window=8, min_count=2, sg=1, workers=3)\n",
    "model.build_vocab(documents)"
   ]
  },
  {
   "cell_type": "code",
   "execution_count": 85,
   "metadata": {},
   "outputs": [
    {
     "name": "stderr",
     "output_type": "stream",
     "text": [
      "C:\\Users\\RAHUL\\anaconda3\\lib\\site-packages\\ipykernel_launcher.py:1: DeprecationWarning: Call to deprecated `iter` (Attribute will be removed in 4.0.0, use self.epochs instead).\n",
      "  \"\"\"Entry point for launching an IPython kernel.\n"
     ]
    },
    {
     "data": {
      "text/plain": [
       "(1179178, 1570905)"
      ]
     },
     "execution_count": 85,
     "metadata": {},
     "output_type": "execute_result"
    }
   ],
   "source": [
    "model.train(sentences=documents, total_examples=len(documents), epochs=model.iter)"
   ]
  },
  {
   "cell_type": "code",
   "execution_count": 87,
   "metadata": {},
   "outputs": [
    {
     "data": {
      "text/plain": [
       "gensim.models.keyedvectors.Word2VecKeyedVectors"
      ]
     },
     "execution_count": 87,
     "metadata": {},
     "output_type": "execute_result"
    }
   ],
   "source": [
    "word_vector = model.wv\n",
    "type(word_vector)"
   ]
  },
  {
   "cell_type": "code",
   "execution_count": 89,
   "metadata": {},
   "outputs": [
    {
     "data": {
      "text/plain": [
       "8537"
      ]
     },
     "execution_count": 89,
     "metadata": {},
     "output_type": "execute_result"
    }
   ],
   "source": [
    "len(word_vector.vocab)"
   ]
  },
  {
   "cell_type": "code",
   "execution_count": 91,
   "metadata": {},
   "outputs": [
    {
     "name": "stdout",
     "output_type": "stream",
     "text": [
      "150\n"
     ]
    }
   ],
   "source": [
    "vector = word_vector['more']\n",
    "print(len(vector))"
   ]
  },
  {
   "cell_type": "code",
   "execution_count": 92,
   "metadata": {},
   "outputs": [
    {
     "data": {
      "text/plain": [
       "array([-0.02113924,  0.17611077,  0.28715461, -0.2314525 , -0.07951351,\n",
       "        0.15023232, -0.34381098, -0.13342084, -0.16943969,  0.1945277 ,\n",
       "       -0.10480734, -0.00652668, -0.03189506,  0.2481355 , -0.2254812 ,\n",
       "       -0.26755488,  0.11363909,  0.14499347,  0.36022815, -0.07522094,\n",
       "       -0.17597422, -0.05595857,  0.21388161, -0.12713203,  0.16166905,\n",
       "       -0.17643493, -0.01071853,  0.12604064,  0.31720492, -0.16035609,\n",
       "        0.06971765,  0.02077148, -0.34228057,  0.06789375, -0.37007725,\n",
       "       -0.05122875, -0.26356068, -0.02713069, -0.11023891,  0.38243353,\n",
       "        0.33030847, -0.3206716 , -0.1803671 , -0.21718788, -0.0083833 ,\n",
       "       -0.02145846,  0.26164436,  0.42159617, -0.13785163, -0.12634367,\n",
       "        0.01863157, -0.03198896,  0.25089243,  0.04561511, -0.12744051,\n",
       "        0.2524177 ,  0.06598193,  0.15778832, -0.14069282,  0.16269615,\n",
       "        0.00362835,  0.1566533 , -0.05648358,  0.24373169,  0.03464094,\n",
       "       -0.0447811 , -0.20518735,  0.14882913, -0.33502394,  0.2745842 ,\n",
       "        0.00780312, -0.13078435,  0.19261082,  0.6342313 , -0.0269209 ,\n",
       "        0.12460384,  0.0592337 , -0.05441711,  0.08363692, -0.1073175 ,\n",
       "       -0.38631505,  0.04063882, -0.07292991,  0.26206204, -0.09125204,\n",
       "        0.08758707, -0.03007911, -0.12629908,  0.38030398,  0.14522569,\n",
       "        0.22250621,  0.09709664,  0.05079879, -0.4389379 ,  0.07109132,\n",
       "        0.04972206,  0.30808896, -0.30737153, -0.21254584, -0.12599592,\n",
       "       -0.12642653, -0.07417943,  0.09834393, -0.03152706,  0.08093766,\n",
       "       -0.26776055,  0.30398485,  0.02403704, -0.01519042, -0.09877822,\n",
       "        0.13057882, -0.2520529 , -0.19502997,  0.14516833,  0.16036293,\n",
       "       -0.09010959,  0.0191587 ,  0.01965542,  0.31843346,  0.19319738,\n",
       "       -0.00542815, -0.08614552,  0.06714282,  0.24982122, -0.32460585,\n",
       "        0.05239648, -0.18731381, -0.19984557, -0.21164267, -0.2370675 ,\n",
       "       -0.06278002, -0.33911464, -0.04513205, -0.04085236, -0.03250363,\n",
       "        0.40517986, -0.07742547, -0.09583587, -0.18888052, -0.14820376,\n",
       "       -0.09436578, -0.32152778,  0.17340907,  0.05006692, -0.54189783,\n",
       "        0.09419735,  0.02259954, -0.20746359, -0.08519744, -0.03693712],\n",
       "      dtype=float32)"
      ]
     },
     "execution_count": 92,
     "metadata": {},
     "output_type": "execute_result"
    }
   ],
   "source": [
    "vector"
   ]
  },
  {
   "cell_type": "code",
   "execution_count": 93,
   "metadata": {},
   "outputs": [
    {
     "data": {
      "text/plain": [
       "[('less', 0.8723226189613342),\n",
       " ('larger', 0.8448131084442139),\n",
       " ('longer', 0.8192958831787109),\n",
       " ('worse', 0.8174786567687988),\n",
       " ('rather', 0.815028965473175)]"
      ]
     },
     "execution_count": 93,
     "metadata": {},
     "output_type": "execute_result"
    }
   ],
   "source": [
    "model.wv.most_similar(positive='more', topn=5)"
   ]
  },
  {
   "cell_type": "code",
   "execution_count": 112,
   "metadata": {},
   "outputs": [
    {
     "data": {
      "text/plain": [
       "[('boys', 0.7184538841247559)]"
      ]
     },
     "execution_count": 112,
     "metadata": {},
     "output_type": "execute_result"
    }
   ],
   "source": [
    "w1 = [\"women\",\"men\"]\n",
    "w2 = [\"girls\"]\n",
    "model.wv.most_similar (positive=w1,negative=w2,topn=1)"
   ]
  },
  {
   "cell_type": "code",
   "execution_count": 107,
   "metadata": {},
   "outputs": [
    {
     "data": {
      "text/plain": [
       "{'it': <gensim.models.keyedvectors.Vocab at 0x21d8a344088>,\n",
       " 'was': <gensim.models.keyedvectors.Vocab at 0x21d8a34bec8>,\n",
       " 'hard': <gensim.models.keyedvectors.Vocab at 0x21d8a314d88>,\n",
       " 'to': <gensim.models.keyedvectors.Vocab at 0x21d8a314908>,\n",
       " 'make': <gensim.models.keyedvectors.Vocab at 0x21d8a34e108>,\n",
       " 'out': <gensim.models.keyedvectors.Vocab at 0x21d8a34e948>,\n",
       " 'what': <gensim.models.keyedvectors.Vocab at 0x21d8a34ea88>,\n",
       " 'happening': <gensim.models.keyedvectors.Vocab at 0x21d8a34eb48>,\n",
       " 'but': <gensim.models.keyedvectors.Vocab at 0x21d8a312808>,\n",
       " 'the': <gensim.models.keyedvectors.Vocab at 0x21d8a34e888>,\n",
       " 'screams': <gensim.models.keyedvectors.Vocab at 0x21d8a34ea48>,\n",
       " 'of': <gensim.models.keyedvectors.Vocab at 0x21d8a30c288>,\n",
       " 'horses': <gensim.models.keyedvectors.Vocab at 0x21d8a30c508>,\n",
       " 'seemed': <gensim.models.keyedvectors.Vocab at 0x21d8a30c688>,\n",
       " 'loud': <gensim.models.keyedvectors.Vocab at 0x21d8a30c748>,\n",
       " 'even': <gensim.models.keyedvectors.Vocab at 0x21d8a30c7c8>,\n",
       " 'at': <gensim.models.keyedvectors.Vocab at 0x21d8a30c888>,\n",
       " 'this': <gensim.models.keyedvectors.Vocab at 0x21d8a30c948>,\n",
       " 'remove': <gensim.models.keyedvectors.Vocab at 0x21d8a30ca08>,\n",
       " 'and': <gensim.models.keyedvectors.Vocab at 0x21d8a30cac8>,\n",
       " 'beneath': <gensim.models.keyedvectors.Vocab at 0x21d8a30cb88>,\n",
       " 'them': <gensim.models.keyedvectors.Vocab at 0x21d8a30cc48>,\n",
       " 'catelyn': <gensim.models.keyedvectors.Vocab at 0x21d8a30cd48>,\n",
       " 'heard': <gensim.models.keyedvectors.Vocab at 0x21d8a30cec8>,\n",
       " 'fainter': <gensim.models.keyedvectors.Vocab at 0x21d88d68cc8>,\n",
       " 'clash': <gensim.models.keyedvectors.Vocab at 0x21d88bac088>,\n",
       " 'steel': <gensim.models.keyedvectors.Vocab at 0x21d8a355088>,\n",
       " 'on': <gensim.models.keyedvectors.Vocab at 0x21d8a355748>,\n",
       " 'banner': <gensim.models.keyedvectors.Vocab at 0x21d8a355788>,\n",
       " 'vanished': <gensim.models.keyedvectors.Vocab at 0x21d8a355848>,\n",
       " 'suddenly': <gensim.models.keyedvectors.Vocab at 0x21d8a355908>,\n",
       " 'as': <gensim.models.keyedvectors.Vocab at 0x21d8a3559c8>,\n",
       " 'its': <gensim.models.keyedvectors.Vocab at 0x21d8a355a88>,\n",
       " 'bearer': <gensim.models.keyedvectors.Vocab at 0x21d8a355b48>,\n",
       " 'swept': <gensim.models.keyedvectors.Vocab at 0x21d8a355c08>,\n",
       " 'under': <gensim.models.keyedvectors.Vocab at 0x21d8a355cc8>,\n",
       " 'soon': <gensim.models.keyedvectors.Vocab at 0x21d8a355d88>,\n",
       " 'after': <gensim.models.keyedvectors.Vocab at 0x21d8a355e48>,\n",
       " 'first': <gensim.models.keyedvectors.Vocab at 0x21d8a355f08>,\n",
       " 'dead': <gensim.models.keyedvectors.Vocab at 0x21d8a355fc8>,\n",
       " 'man': <gensim.models.keyedvectors.Vocab at 0x21d8a310f88>,\n",
       " 'drifted': <gensim.models.keyedvectors.Vocab at 0x21d8a3108c8>,\n",
       " 'past': <gensim.models.keyedvectors.Vocab at 0x21d8a310808>,\n",
       " 'their': <gensim.models.keyedvectors.Vocab at 0x21d8a310208>,\n",
       " 'walls': <gensim.models.keyedvectors.Vocab at 0x21d8a310ec8>,\n",
       " 'borne': <gensim.models.keyedvectors.Vocab at 0x21d8a310988>,\n",
       " 'along': <gensim.models.keyedvectors.Vocab at 0x21d8a310448>,\n",
       " 'by': <gensim.models.keyedvectors.Vocab at 0x21d8a3102c8>,\n",
       " 'current': <gensim.models.keyedvectors.Vocab at 0x21d8a310748>,\n",
       " 'then': <gensim.models.keyedvectors.Vocab at 0x21d8a310bc8>}"
      ]
     },
     "execution_count": 107,
     "metadata": {},
     "output_type": "execute_result"
    }
   ],
   "source": [
    "wanted_words = []\n",
    "count = 0\n",
    "for word in word_vector.vocab:\n",
    "    if count<50:\n",
    "        wanted_words.append(word)\n",
    "        count += 1\n",
    "    else:\n",
    "        break\n",
    "wanted_vocab = dict((k, word_vector.vocab[k]) for k in wanted_words if k in word_vector.vocab)\n",
    "wanted_vocab"
   ]
  },
  {
   "cell_type": "code",
   "execution_count": 108,
   "metadata": {},
   "outputs": [
    {
     "name": "stderr",
     "output_type": "stream",
     "text": [
      "C:\\Users\\RAHUL\\anaconda3\\lib\\site-packages\\ipykernel_launcher.py:1: DeprecationWarning: Call to deprecated `__getitem__` (Method will be removed in 4.0.0, use self.wv.__getitem__() instead).\n",
      "  \"\"\"Entry point for launching an IPython kernel.\n"
     ]
    }
   ],
   "source": [
    "X = model[wanted_vocab] # X is an array of word vectors, each vector containing 150 tokens\n",
    "tsne_model = sklearn.manifold.TSNE(perplexity=40, n_components=2, init=\"pca\", n_iter=5000, random_state=23)\n",
    "Y = tsne_model.fit_transform(X)"
   ]
  },
  {
   "cell_type": "code",
   "execution_count": 109,
   "metadata": {},
   "outputs": [
    {
     "data": {
      "image/png": "[encoded data removed]",
      "text/plain": [
       "<Figure size 1440x720 with 1 Axes>"
      ]
     },
     "metadata": {
      "needs_background": "light"
     },
     "output_type": "display_data"
    }
   ],
   "source": [
    "#Plot the t-SNE output\n",
    "fig, ax = plt.subplots(figsize=(20,10))\n",
    "ax.scatter(Y[:, 0], Y[:, 1])\n",
    "words = list(wanted_vocab)\n",
    "for i, word in enumerate(words):\n",
    "    plt.annotate(word, xy=(Y[i, 0], Y[i, 1]))\n",
    "ax.set_yticklabels([]) #Hide ticks\n",
    "ax.set_xticklabels([]) #Hide ticks\n",
    "_ = plt.show()"
   ]
  },
  {
   "cell_type": "code",
   "execution_count": null,
   "metadata": {},
   "outputs": [],
   "source": []
  }
 ],
 "metadata": {
  "kernelspec": {
   "display_name": "Python 3",
   "language": "python",
   "name": "python3"
  },
  "language_info": {
   "codemirror_mode": {
    "name": "ipython",
    "version": 3
   },
   "file_extension": ".py",
   "mimetype": "text/x-python",
   "name": "python",
   "nbconvert_exporter": "python",
   "pygments_lexer": "ipython3",
   "version": "3.7.6"
  }
 },
 "nbformat": 4,
 "nbformat_minor": 4
}
